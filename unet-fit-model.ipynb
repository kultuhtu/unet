{
 "cells": [
  {
   "cell_type": "code",
   "execution_count": null,
   "metadata": {},
   "outputs": [],
   "source": []
  },
  {
   "cell_type": "code",
   "execution_count": null,
   "metadata": {},
   "outputs": [],
   "source": [
    "#Make train test set \n",
    "test = 0.3\n",
    "from sklearn.model_selection import train_test_split\n",
    "x_train, x_test, y_train, y_test = train_test_split(input_data, input_masks, test_size=test, random_state=1)"
   ]
  },
  {
   "cell_type": "code",
   "execution_count": null,
   "metadata": {
    "executionInfo": {
     "elapsed": 399,
     "status": "ok",
     "timestamp": 1614334036256,
     "user": {
      "displayName": "Joe McNease",
      "photoUrl": "https://lh3.googleusercontent.com/a-/AOh14GjEkKhoLaIOka3TWkK2rPOh20uWl_fYl2zpehRTIQ=s64",
      "userId": "00252696115758205339"
     },
     "user_tz": 360
    },
    "id": "-GcaS3dWFIBJ"
   },
   "outputs": [],
   "source": [
    "#X_train, y_train, X_test, y_test = input_data[:300], input_masks[:300], input_data[300:], input_masks[300:]\n",
    "x_train = tf.convert_to_tensor(x_train)\n",
    "y_train = tf.convert_to_tensor(y_train)\n",
    "x_test = tf.convert_to_tensor(x_test)\n",
    "y_test = tf.convert_to_tensor(y_test)"
   ]
  },
  {
   "cell_type": "code",
   "execution_count": null,
   "metadata": {
    "id": "Ez5ujYGMjxRt"
   },
   "outputs": [],
   "source": [
    "# Saving checkpoints.\n",
    "checkpoint_path = os.path.join('./', 'Training_'+str(passed_batch)+'/cp.ckpt')\n",
    "\n",
    "# Create a callback that saves the model's weights\n",
    "cp_callback = tf.keras.callbacks.ModelCheckpoint(filepath=checkpoint_path,\n",
    "                                                 save_weights_only=True,\n",
    "                                                 verbose=1)\n",
    "\n",
    "# Train model.\n",
    "# To see that the model actually runs, choose a small batch_size and # of epochs with less training and validation data.\n",
    "# We will have to use a more memory efficient way to load data, such as only loading the data for each training batch at a time.\n",
    "# Your session will probably crash if you run the below code with low ram on cpu.\n",
    "history = model.fit(x=x_train, y=y_train, validation_split=validation_split, batch_size=batch_size, epochs=no_epochs, callbacks=[cp_callback], verbose=verbosity)"
   ]
  }
 ],
 "metadata": {
  "kernelspec": {
   "display_name": "Python 3",
   "language": "python",
   "name": "python3"
  },
  "language_info": {
   "codemirror_mode": {
    "name": "ipython",
    "version": 3
   },
   "file_extension": ".py",
   "mimetype": "text/x-python",
   "name": "python",
   "nbconvert_exporter": "python",
   "pygments_lexer": "ipython3",
   "version": "3.6.9"
  }
 },
 "nbformat": 4,
 "nbformat_minor": 4
}
