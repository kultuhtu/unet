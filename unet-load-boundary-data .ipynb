{
 "cells": [
  {
   "cell_type": "code",
   "execution_count": 1,
   "metadata": {
    "executionInfo": {
     "elapsed": 185,
     "status": "ok",
     "timestamp": 1614333895336,
     "user": {
      "displayName": "Joe McNease",
      "photoUrl": "https://lh3.googleusercontent.com/a-/AOh14GjEkKhoLaIOka3TWkK2rPOh20uWl_fYl2zpehRTIQ=s64",
      "userId": "00252696115758205339"
     },
     "user_tz": 360
    },
    "id": "p_PH4zDwCrwf"
   },
   "outputs": [],
   "source": [
    "import numpy as np\n",
    "import matplotlib.pyplot as plt\n",
    "import tensorflow as tf\n",
    "from tensorflow import keras\n",
    "import scipy\n",
    "import os\n",
    "import xwidgets"
   ]
  },
  {
   "cell_type": "code",
   "execution_count": 2,
   "metadata": {
    "id": "fhLVHWceFIA-"
   },
   "outputs": [
    {
     "name": "stdout",
     "output_type": "stream",
     "text": [
      "Image Shape: (781, 590, 1006) -- Image Min/Max: (-5195.5234, 5151.7188)\n",
      "Mask Shape: (781, 590, 1006) -- Mask Min/Max: (1, 6)\n"
     ]
    }
   ],
   "source": [
    "def load_data(img_path, msk_path, describe=True):\n",
    "    img = np.load(img_path)['data']\n",
    "    msk = np.load(msk_path)['labels']\n",
    "    \n",
    "    # only necessary if input is not already in an (x,y,z) format\n",
    "    img = img.transpose(1,2,0)\n",
    "    msk = msk.transpose(1,2,0)\n",
    "    \n",
    "    img = img[1:,:,:]\n",
    "    msk = msk[1:,:,:]\n",
    "    \n",
    "    if describe:\n",
    "        print(f'Image Shape: {img.shape} -- Image Min/Max: {(np.min(img), np.max(img))}')\n",
    "        print(f'Mask Shape: {msk.shape} -- Mask Min/Max: {(np.min(msk), np.max(msk))}')\n",
    "    \n",
    "    return img, msk\n",
    "\n",
    "# Xrathus data path.\n",
    "dataset_path = '/home/jovyan/projects/seam/seismic_facies_identification_challenge/data/dataset-14-v1/'\n",
    "\n",
    "data_path = os.path.join(dataset_path, 'data_train.npz')\n",
    "labels_path = os.path.join(dataset_path, 'labels_train.npz')\n",
    "#data_path = \"/home/jovyan/data/xrathus/welcome/dataset-13-v2/sampledata/example3dseismicviewer.npy\"\n",
    "#labels_path = \"/home/jovyan/data/xrathus/welcome/dataset-13-v2/sampledata/example3dseismicviewer2.npy\"\n",
    "dataset_all,labels_all = load_data(data_path, labels_path, describe = True)\n",
    "#dataset = dataset_all[100:250,250:400,:]\n",
    "#labels = labels_all[100:250,250:400,:]"
   ]
  },
  {
   "cell_type": "code",
   "execution_count": 3,
   "metadata": {},
   "outputs": [],
   "source": [
    "def modifyNeighbors(array, x, y, z, d, value=1):\n",
    "    # make sure you doesn't hit outside array boundaries\n",
    "    x1 = x2 = y1 = y2 = z1 = z2 = d\n",
    "    if x-x1 < 0:\n",
    "        x1 = x\n",
    "    if x+x2+1 > array.shape[0]:\n",
    "        x2 = array.shape[0]-1-x\n",
    "    if y-y1 < 0:\n",
    "        y1 = y\n",
    "    if y+y2+1 > array.shape[1]:\n",
    "        y2 = array.shape[1]-1-y\n",
    "    if z-z1 < 0:\n",
    "        z1 = z\n",
    "    if z+z2+1 > array.shape[2]:\n",
    "        z2 = array.shape[2]-1-z\n",
    "\n",
    "    array[x-x1:x+x2+1, y-y1:y+y2+1, z-z1:z+z2+1] = value\n",
    "    \n",
    "\n",
    "def generateBinaryBoundaryMask(msk, padding=5):\n",
    "    # init empty\n",
    "    conditionalMsk = np.zeros(msk.shape)\n",
    "    \n",
    "    # use np.diff to find where transition in values occurs\n",
    "    for i in range(3):\n",
    "        tempMsk = np.diff(msk, axis = i)\n",
    "        tempMsk2 = np.zeros(msk.shape)\n",
    "        #add last row/column, since diff shape is 1 less than true length\n",
    "        if i == 0:\n",
    "            tempMsk2[:-1,:,:] = tempMsk\n",
    "            tempMsk2[-1,:,:] = tempMsk[-1,:,:]\n",
    "        elif i == 1:\n",
    "            tempMsk2[:,:-1,:] = tempMsk\n",
    "            tempMsk2[:,-1,:] = tempMsk[:,-1,:]\n",
    "        elif i == 2:\n",
    "            tempMsk2[:,:,:-1] = tempMsk\n",
    "            tempMsk2[:,:,-1] = tempMsk[:,:,-1]\n",
    "        conditionalMsk = ((conditionalMsk!=0) | (tempMsk2!=0)).astype(int)\n",
    "                \n",
    "        del tempMsk, tempMsk2\n",
    "    \n",
    "    # change neighbors of 1's to include all areas within padding pixels distance\n",
    "    for x in np.argwhere(conditionalMsk>0):\n",
    "        modifyNeighbors(conditionalMsk, x[0], x[1], x[2], padding)\n",
    "        \n",
    "    return conditionalMsk"
   ]
  },
  {
   "cell_type": "code",
   "execution_count": 4,
   "metadata": {},
   "outputs": [],
   "source": [
    "newMask = generateBinaryBoundaryMask(labels_all, padding=2)"
   ]
  },
  {
   "cell_type": "code",
   "execution_count": 5,
   "metadata": {},
   "outputs": [
    {
     "data": {
      "text/plain": [
       "(781, 590, 1006)"
      ]
     },
     "execution_count": 5,
     "metadata": {},
     "output_type": "execute_result"
    }
   ],
   "source": [
    "newMask.shape"
   ]
  },
  {
   "cell_type": "code",
   "execution_count": 6,
   "metadata": {},
   "outputs": [],
   "source": [
    "# save the newly generated dataset\n",
    "np.savez_compressed(\"./boundaries\",boundaries=newMask)"
   ]
  },
  {
   "cell_type": "code",
   "execution_count": null,
   "metadata": {},
   "outputs": [],
   "source": [
    "# start with this line if you have saved boundaries before"
   ]
  },
  {
   "cell_type": "code",
   "execution_count": 9,
   "metadata": {},
   "outputs": [
    {
     "name": "stdout",
     "output_type": "stream",
     "text": [
      "(781, 590, 1006)\n",
      "(781, 590, 1006)\n"
     ]
    }
   ],
   "source": [
    "import numpy as np\n",
    "import matplotlib.pyplot as plt\n",
    "import tensorflow as tf\n",
    "from tensorflow import keras\n",
    "import scipy\n",
    "import os\n",
    "import xwidgets\n",
    "\n",
    "# Xrathus data path.\n",
    "dataset_path = '/home/jovyan/projects/seam/seismic_facies_identification_challenge/data/dataset-14-v1/'\n",
    "data_path = os.path.join(dataset_path, 'data_train.npz')\n",
    "\n",
    "newMask = np.load(\"./boundaries_5.npz\")['boundaries']\n",
    "img = np.load(data_path)['data']\n",
    "\n",
    "img = img.transpose(1,2,0)\n",
    "img = img[1:,:,:]\n",
    "\n",
    "print(newMask.shape)\n",
    "print(img.shape)"
   ]
  },
  {
   "cell_type": "code",
   "execution_count": 10,
   "metadata": {},
   "outputs": [
    {
     "data": {
      "application/vnd.jupyter.widget-view+json": {
       "model_id": "badc00edf3054359af4c652f5dfe0f1f",
       "version_major": 2,
       "version_minor": 0
      },
      "text/plain": [
       "HBox(children=(FloatProgress(value=0.0, description='Adding Data Source - Data 1', max=10.0, style=ProgressSty…"
      ]
     },
     "metadata": {},
     "output_type": "display_data"
    },
    {
     "name": "stdout",
     "output_type": "stream",
     "text": [
      "\n"
     ]
    },
    {
     "data": {
      "application/vnd.jupyter.widget-view+json": {
       "model_id": "f13bcfe1612644588203d29d64140893",
       "version_major": 2,
       "version_minor": 0
      },
      "text/plain": [
       "HBox(children=(FloatProgress(value=0.0, description='Adding Data Source - Data 2', max=10.0, style=ProgressSty…"
      ]
     },
     "metadata": {},
     "output_type": "display_data"
    },
    {
     "name": "stdout",
     "output_type": "stream",
     "text": [
      "\n"
     ]
    },
    {
     "data": {
      "application/vnd.jupyter.widget-view+json": {
       "model_id": "cd43c1e4b52d435488e8340e5d0db36a",
       "version_major": 2,
       "version_minor": 0
      },
      "text/plain": [
       "VBox(children=(HBox(children=(Image(value=b'\\x89PNG\\r\\n\\x1a\\n\\x00\\x00\\x00\\rIHDR\\x00\\x00\\x068\\x00\\x00\\x08x\\x08\\…"
      ]
     },
     "metadata": {},
     "output_type": "display_data"
    }
   ],
   "source": [
    "viewer = xwidgets.SeismicViewer3D(dataset_all)\n",
    "#viewer.addDataSource(dataSource=labels_all)\n",
    "viewer.addDataSource(dataSource=newMask)\n",
    "#viewer.setDataSourceMinMax(dataSourceID=2, dataMin=1, dataMax=6)\n",
    "viewer.setSize(width=600, height=900)\n",
    "viewer.setAspectRatio(x=1, y=1, z=2)\n",
    "viewer.setLabels(x='X', y='Y', z='Z')\n",
    "viewer.setColorscales(colorscales=['Greys', 'RdBu', 'Rainbow'])\n",
    "viewer.invertAxis(z=True)\n",
    "viewer.show()"
   ]
  },
  {
   "cell_type": "code",
   "execution_count": null,
   "metadata": {},
   "outputs": [],
   "source": []
  }
 ],
 "metadata": {
  "kernelspec": {
   "display_name": "Python 3",
   "language": "python",
   "name": "python3"
  },
  "language_info": {
   "codemirror_mode": {
    "name": "ipython",
    "version": 3
   },
   "file_extension": ".py",
   "mimetype": "text/x-python",
   "name": "python",
   "nbconvert_exporter": "python",
   "pygments_lexer": "ipython3",
   "version": "3.7.8"
  }
 },
 "nbformat": 4,
 "nbformat_minor": 4
}
